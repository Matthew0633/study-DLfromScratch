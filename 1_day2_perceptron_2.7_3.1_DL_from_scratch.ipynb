{
 "cells": [
  {
   "cell_type": "code",
   "execution_count": null,
   "metadata": {},
   "outputs": [],
   "source": [
    "import numpy as np\n",
    "\n",
    "b = 1.5 # 편향\n",
    "w1 = 1 # 가중치1\n",
    "w2 = 1 # 가중치2\n",
    "\n",
    "x1 = np.array([0, 0, 1, 1]) # 입력값\n",
    "x2 = np.array([0, 1, 0, 1])\n",
    "\n",
    "z = -b + w1 * x1 + w2 * x2 #총합"
   ]
  }
 ],
 "metadata": {
  "kernelspec": {
   "display_name": "Python 3",
   "language": "python",
   "name": "python3"
  },
  "language_info": {
   "codemirror_mode": {
    "name": "ipython",
    "version": 3
   },
   "file_extension": ".py",
   "mimetype": "text/x-python",
   "name": "python",
   "nbconvert_exporter": "python",
   "pygments_lexer": "ipython3",
   "version": "3.7.6"
  }
 },
 "nbformat": 4,
 "nbformat_minor": 4
}
